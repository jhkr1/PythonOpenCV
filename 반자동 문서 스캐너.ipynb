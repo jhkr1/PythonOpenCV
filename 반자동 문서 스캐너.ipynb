{
 "cells": [
  {
   "cell_type": "markdown",
   "id": "2892e306-7825-4a40-8316-f2be697daa5a",
   "metadata": {},
   "source": [
    "# 미니 프로젝트: 반자동 문서 스캐너"
   ]
  },
  {
   "cell_type": "markdown",
   "id": "b4da0c9b-e4b4-483a-b40d-7dcfd0180a40",
   "metadata": {},
   "source": [
    "## 마우스 이벤트 등록"
   ]
  },
  {
   "cell_type": "code",
   "execution_count": 24,
   "id": "dbc90a56-bbcb-46c5-8054-77f132213d67",
   "metadata": {},
   "outputs": [
    {
     "name": "stdout",
     "output_type": "stream",
     "text": [
      "오른쪽 버튼 down\n"
     ]
    },
    {
     "data": {
      "text/plain": [
       "-1"
      ]
     },
     "execution_count": 24,
     "metadata": {},
     "output_type": "execute_result"
    }
   ],
   "source": [
    "import cv2\n",
    "\n",
    "def mouse_handler(event, x, y, flags, param):\n",
    "    if event == cv2.EVENT_LBUTTONDOWN: # 마우스 왼쪽 버튼 Donw\n",
    "        print('왼쪽 버튼 down')\n",
    "        print(x, y)\n",
    "    elif event == cv2.EVENT_LBUTTONUP: # 마우스 왼쪽 버튼 Up\n",
    "        print('왼쪽 버튼 up')\n",
    "        print(x, y)\n",
    "    elif event == cv2.EVENT_LBUTTONDBLCLK:  # 마우스 왼쪽 버튼 더블 클릭\n",
    "        print('왼쪽 버튼 Double Click')\n",
    "    # elif event == cv2.EVENT_MOUSEMOVE: # 마우스 이동\n",
    "    #     print('마우스 이동')\n",
    "    elif event == cv2.EVENT_RBUTTONDOWN: # 마우스 왼쪽 버튼 Donw\n",
    "        print('오른쪽 버튼 down')\n",
    "\n",
    "    \n",
    "img = cv2.imread('poker.jpg')\n",
    "cv2.namedWindow('img') # img란 이름의 윈도우를 먼저 만들어 두는 것. 여기에 마우스 이벤트를 처리하기 위한 핸들러 적용\n",
    "cv2.setMouseCallback('img', mouse_handler)\n",
    "cv2.imshow('img', img)\n",
    "cv2.waitKey()\n",
    "cv2.destroyAllWindows()\n",
    "cv2.waitKey(1)\n"
   ]
  },
  {
   "cell_type": "markdown",
   "id": "96e9e679-5d78-4b74-b8b1-f058956a4416",
   "metadata": {},
   "source": [
    "# 프로젝트 코드"
   ]
  },
  {
   "cell_type": "code",
   "execution_count": 51,
   "id": "a3eb7ba0-1ab9-4e9c-81da-7cd37164849a",
   "metadata": {},
   "outputs": [
    {
     "data": {
      "text/plain": [
       "-1"
      ]
     },
     "execution_count": 51,
     "metadata": {},
     "output_type": "execute_result"
    }
   ],
   "source": [
    "import cv2\n",
    "import numpy as np\n",
    "\n",
    "point_list = []\n",
    "COLOR = (255, 0, 255) # BGR 순서, 즉 핑크\n",
    "THICKNESS = 3\n",
    "drawing = False # 선을 그릴지 여부를 판단\n",
    "\n",
    "def mouse_handler(event, x, y, flags, param):\n",
    "    global drawing\n",
    "    dst_img = src_img.copy()\n",
    "    \n",
    "    if event == cv2.EVENT_LBUTTONDOWN: # 마우스 왼쪽 버튼 Donw\n",
    "       drawing = True # 선을 그리기 시작\n",
    "       point_list.append((x, y))\n",
    "    if drawing:\n",
    "        prev_point = None # 직선의 시작점\n",
    "        for point in point_list:\n",
    "            cv2.circle(dst_img, point, 15, COLOR, cv2.FILLED) # 그릴 위치, 중심점, 반지름, 색깔\n",
    "            if prev_point:\n",
    "                cv2.line(dst_img, prev_point, point, COLOR, THICKNESS, cv2.LINE_AA)\n",
    "            prev_point = point\n",
    "            \n",
    "        next_point = (x, y)\n",
    "        if len(point_list) == 4:\n",
    "            show_result() # 결과 출력\n",
    "            next_point = point_list[0] # 첫 번째 클릭한 지점\n",
    "        cv2.line(dst_img, prev_point, next_point, COLOR, THICKNESS, cv2.LINE_AA)\n",
    "        \n",
    "        \n",
    "    cv2.imshow('img', dst_img)\n",
    "\n",
    "def show_result():\n",
    "    width, height = 530, 710\n",
    "\n",
    "    src = np.float32(point_list)\n",
    "    dst = np.array([[0,0], [width, 0], [width, height], [0, height]], dtype=np.float32)\n",
    "\n",
    "    matrix = cv2.getPerspectiveTransform(src, dst) # Matrix를 얻어옴\n",
    "    result = cv2.warpPerspective(src_img, matrix, (width, height)) # Matrix대로 변환을 함\n",
    "    cv2.imshow('result', result)\n",
    "    \n",
    "\n",
    "src_img = cv2.imread('poker.jpg')\n",
    "cv2.namedWindow('img') # img란 이름의 윈도우를 먼저 만들어 두는 것. 여기에 마우스 이벤트를 처리하기 위한 핸들러 적용\n",
    "cv2.setMouseCallback('img', mouse_handler)\n",
    "cv2.imshow('img', src_img)\n",
    "cv2.waitKey()\n",
    "cv2.destroyAllWindows()\n",
    "cv2.waitKey(1)\n",
    "\n"
   ]
  }
 ],
 "metadata": {
  "kernelspec": {
   "display_name": "Python 3 (ipykernel)",
   "language": "python",
   "name": "python3"
  },
  "language_info": {
   "codemirror_mode": {
    "name": "ipython",
    "version": 3
   },
   "file_extension": ".py",
   "mimetype": "text/x-python",
   "name": "python",
   "nbconvert_exporter": "python",
   "pygments_lexer": "ipython3",
   "version": "3.12.2"
  }
 },
 "nbformat": 4,
 "nbformat_minor": 5
}
