{
 "cells": [
  {
   "cell_type": "markdown",
   "id": "9d2d6e4d-1595-401b-ba23-394ef7c7fc60",
   "metadata": {},
   "source": [
    "## 퀴즈"
   ]
  },
  {
   "cell_type": "markdown",
   "id": "e2b3f56b-f1d1-4710-8ddc-cea001f65928",
   "metadata": {},
   "source": [
    "### OpenCV를 이용하여 가로로 촬영된 동영상을 세로로 회전하는 프로그램을 작성하시오."
   ]
  },
  {
   "cell_type": "markdown",
   "id": "bcea6a2e-672d-48cf-bc83-dd3488b757ea",
   "metadata": {},
   "source": [
    "### 조건\n",
    "1. 회전: 시계 반대방향으로 90도\n",
    "2. 재생속도 (FPS): 원본 * 4\n",
    "3. 출력 파일명: city_output.avi(코덱:DIVX)"
   ]
  },
  {
   "cell_type": "code",
   "execution_count": null,
   "id": "8b5a7ccd-4c8e-4595-ac50-005068e000e4",
   "metadata": {},
   "outputs": [],
   "source": [
    "import cv2\n",
    "\n",
    "cap = cv2.VideoCapture('city.mp4')\n",
    "fourcc = cv2.VideoWriter_fourcc(*'DIVX')\n",
    "\n",
    "width = round(cap.get(cv2.CAP_PROP_FRAME_WIDTH))\n",
    "height = round(cap.get(cv2.CAP_PROP_FRAME_HEIGHT))\n",
    "fps = cap.get(cv2.CAP_PROP_FPS)\n",
    "\n",
    "out = cv2.VideoWriter('city_output.avi', fourcc, fps * 4, (height, width)) # 높이와 넓이를 반대로\n",
    "\n",
    "while cap.isOpened():\n",
    "    ret, frame = cap.read()\n",
    "    if not ret:\n",
    "        break\n",
    "    rotate_frame = cv2.rotate(frame, cv2.ROTATE_90_COUNTERCLOCKWISE)\n",
    "    out.write(rotate_frame)\n",
    "    cv2.imshow('video', frame)\n",
    "\n",
    "    if cv2.waitKey(0) == ord('q'):\n",
    "        break\n",
    "out.release()\n",
    "cap.release()\n",
    "cv2.destroyAllWindows()\n",
    "cv2.waitKey(1)\n"
   ]
  }
 ],
 "metadata": {
  "kernelspec": {
   "display_name": "Python 3 (ipykernel)",
   "language": "python",
   "name": "python3"
  },
  "language_info": {
   "codemirror_mode": {
    "name": "ipython",
    "version": 3
   },
   "file_extension": ".py",
   "mimetype": "text/x-python",
   "name": "python",
   "nbconvert_exporter": "python",
   "pygments_lexer": "ipython3",
   "version": "3.12.2"
  }
 },
 "nbformat": 4,
 "nbformat_minor": 5
}
