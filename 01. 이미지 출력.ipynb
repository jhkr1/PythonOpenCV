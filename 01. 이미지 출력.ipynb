{
 "cells": [
  {
   "cell_type": "markdown",
   "metadata": {
    "id": "bbp5IwcwVEip"
   },
   "source": [
    "# 환경 설정"
   ]
  },
  {
   "cell_type": "code",
   "execution_count": null,
   "metadata": {
    "colab": {
     "base_uri": "https://localhost:8080/"
    },
    "executionInfo": {
     "elapsed": 3439,
     "status": "ok",
     "timestamp": 1725425329820,
     "user": {
      "displayName": "이지헌",
      "userId": "05716634838079675304"
     },
     "user_tz": -540
    },
    "id": "_TBIMfQXUqiH",
    "outputId": "99278550-ce15-43ca-de7d-12ed46895744"
   },
   "outputs": [],
   "source": [
    "pip install opencv-python"
   ]
  },
  {
   "cell_type": "code",
   "execution_count": null,
   "metadata": {
    "colab": {
     "base_uri": "https://localhost:8080/",
     "height": 36
    },
    "executionInfo": {
     "elapsed": 3,
     "status": "ok",
     "timestamp": 1725425329820,
     "user": {
      "displayName": "이지헌",
      "userId": "05716634838079675304"
     },
     "user_tz": -540
    },
    "id": "3Dv5oKe2U_Te",
    "outputId": "0a4f2008-0c39-4561-d9d4-b42136418c7a"
   },
   "outputs": [],
   "source": [
    "import cv2\n",
    "cv2.__version__"
   ]
  },
  {
   "cell_type": "markdown",
   "metadata": {
    "id": "mPWoJlOEVQBi"
   },
   "source": [
    "# OpenCV(Computer Vision)\n",
    "다양한 영상 (이미지) / 동영상 처리에 사용되는 오픈소스 라이브러리"
   ]
  },
  {
   "cell_type": "markdown",
   "metadata": {
    "id": "4wpMk5UPVXQY"
   },
   "source": [
    "# 1. 이미지 출력"
   ]
  },
  {
   "cell_type": "code",
   "execution_count": null,
   "metadata": {
    "colab": {
     "base_uri": "https://localhost:8080/",
     "height": 675
    },
    "executionInfo": {
     "elapsed": 1236,
     "status": "ok",
     "timestamp": 1725425571732,
     "user": {
      "displayName": "이지헌",
      "userId": "05716634838079675304"
     },
     "user_tz": -540
    },
    "id": "1tEG_6CzVJZT",
    "outputId": "99346d71-cab7-45ad-81e1-84048e4dd797"
   },
   "outputs": [],
   "source": [
    "import cv2\n",
    "# 해당 경로에 파일 읽어오기\n",
    "img = cv2.imread('img.jpg')\n",
    "# img를 표시\n",
    "cv2.imshow('img',img)\n",
    "# 지정된 시간동안 사용자 키 입력 대기\n",
    "cv2.waitKey(0)\n",
    "# 모든 창 닫기\n",
    "cv2.destroyAllWindows()\n",
    "cv2.waitKey(0)"
   ]
  },
  {
   "cell_type": "markdown",
   "metadata": {
    "id": "_y0PpYeFYhmm"
   },
   "source": [
    "## 읽기 옵션\n",
    "1. cv2.IMREAD_COLO: 컬러 이미지, 투명 영역은 무시 (기본값)\n",
    "2. cv2.IMREAD_GRAYSCALE: 흑백 이미지\n",
    "3. cv2.IMREAD_UNCHANGED: 투명 영역까지 포함"
   ]
  },
  {
   "cell_type": "code",
   "execution_count": null,
   "metadata": {
    "id": "7BGP3zRlVJzr"
   },
   "outputs": [],
   "source": [
    "import cv2\n",
    "\n",
    "img_color = cv2.imread('/content/drive/MyDrive/PythonImageWorkspace/OpenCV/img.jpg', cv2.IMREAD_COLOR)\n",
    "img_gray = cv2.imread('/content/drive/MyDrive/PythonImageWorkspace/OpenCV/img.jpg', cv2.IMREAD_GRAYSCALE)\n",
    "img_unchanged = cv2.imread('/content/drive/MyDrive/PythonImageWorkspace/OpenCV/img.jpg', cv2.IMREAD_UNCHANGED)\n",
    "\n",
    "\n",
    "cv2_imshow(img_color)\n",
    "cv2_imshow(img_gray)\n",
    "cv2_imshow(img_unchanged)\n",
    "\n",
    "cv2.waitKey(0)\n",
    "cv2.destroyAllWindows()"
   ]
  },
  {
   "cell_type": "markdown",
   "metadata": {
    "id": "B0s4qARqZiFP"
   },
   "source": [
    "## Shape\n",
    "이미지의 height, width, channel 정보"
   ]
  },
  {
   "cell_type": "code",
   "execution_count": 24,
   "metadata": {
    "colab": {
     "base_uri": "https://localhost:8080/"
    },
    "executionInfo": {
     "elapsed": 409,
     "status": "ok",
     "timestamp": 1725425946968,
     "user": {
      "displayName": "이지헌",
      "userId": "05716634838079675304"
     },
     "user_tz": -540
    },
    "id": "DxmXtsX1VJ7R",
    "outputId": "b599ee53-fa51-426e-cb90-2d6b5312f66f"
   },
   "outputs": [
    {
     "data": {
      "text/plain": [
       "(640, 536, 3)"
      ]
     },
     "execution_count": 24,
     "metadata": {},
     "output_type": "execute_result"
    }
   ],
   "source": [
    "import cv2\n",
    "img = cv2.imread('/content/drive/MyDrive/PythonImageWorkspace/OpenCV/img.jpg')\n",
    "img.shape # 세로, 가로, Channel\n",
    "\n",
    "# channel은 rgb인 3을 나타냄"
   ]
  }
 ],
 "metadata": {
  "colab": {
   "authorship_tag": "ABX9TyOT95w7u4NhMyPYsH9VB6CQ",
   "mount_file_id": "1T6iRnodcyqf2ipQKX7U9n9ffBiDBca9w",
   "provenance": []
  },
  "kernelspec": {
   "display_name": "Python 3 (ipykernel)",
   "language": "python",
   "name": "python3"
  },
  "language_info": {
   "codemirror_mode": {
    "name": "ipython",
    "version": 3
   },
   "file_extension": ".py",
   "mimetype": "text/x-python",
   "name": "python",
   "nbconvert_exporter": "python",
   "pygments_lexer": "ipython3",
   "version": "3.12.2"
  }
 },
 "nbformat": 4,
 "nbformat_minor": 4
}
