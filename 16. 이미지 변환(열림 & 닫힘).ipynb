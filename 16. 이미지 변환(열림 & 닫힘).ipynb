{
 "cells": [
  {
   "cell_type": "markdown",
   "id": "dd34f3e7-a76b-409b-81c4-7025d738ea5f",
   "metadata": {},
   "source": [
    "# 16. 이미지 변환(열림 & 닫힘)"
   ]
  },
  {
   "cell_type": "markdown",
   "id": "df857395-e47d-4383-814d-b1f9c2561587",
   "metadata": {},
   "source": [
    "## 열림 (Opening): 침식 후 팽창, 깎아서 노이즈 제거 후 살 찌움\n",
    "> dilate(erode(img))"
   ]
  },
  {
   "cell_type": "code",
   "execution_count": 6,
   "id": "ddee8cf0-1a22-4030-82ce-7dfd490064aa",
   "metadata": {},
   "outputs": [
    {
     "data": {
      "text/plain": [
       "-1"
      ]
     },
     "execution_count": 6,
     "metadata": {},
     "output_type": "execute_result"
    }
   ],
   "source": [
    "import cv2\n",
    "import numpy as np\n",
    "\n",
    "img = cv2.imread('erode.png', cv2.IMREAD_GRAYSCALE)\n",
    "kernel = np.ones((3, 3), dtype=np.uint8)\n",
    "\n",
    "erode = cv2.erode(img, kernel, iterations=3)\n",
    "dilate = cv2.dilate(erode, kernel, iterations=3)\n",
    "\n",
    "cv2.imshow('img', img)\n",
    "cv2.imshow('erode', erode)\n",
    "cv2.imshow('dilate', dilate)\n",
    "\n",
    "cv2.waitKey(0)\n",
    "cv2.destroyAllWindows()\n",
    "cv2.waitKey(1)"
   ]
  },
  {
   "cell_type": "markdown",
   "id": "592f7c07-6317-43c5-8158-257cbd8f32b7",
   "metadata": {},
   "source": [
    "## 닫힘(Closing): 팽창 후 침식, 구멍을  메운 후 다시 깎음\n",
    "> erode(dilate(img))"
   ]
  },
  {
   "cell_type": "code",
   "execution_count": 17,
   "id": "36034733-2763-4e3b-b415-37ec6ace72a6",
   "metadata": {},
   "outputs": [
    {
     "data": {
      "text/plain": [
       "-1"
      ]
     },
     "execution_count": 17,
     "metadata": {},
     "output_type": "execute_result"
    }
   ],
   "source": [
    "import cv2\n",
    "import numpy as np\n",
    "\n",
    "img = cv2.imread('dilate.png', cv2.IMREAD_GRAYSCALE)\n",
    "kernel = np.ones((3, 3), dtype=np.uint8)\n",
    "\n",
    "dilate = cv2.dilate(img, kernel, iterations=3)\n",
    "erode = cv2.erode(dilate, kernel, iterations=3)\n",
    "\n",
    "\n",
    "cv2.imshow('img', img)\n",
    "cv2.imshow('erode', erode)\n",
    "cv2.imshow('dilate', dilate)\n",
    "\n",
    "cv2.waitKey(0)\n",
    "cv2.destroyAllWindows()\n",
    "cv2.waitKey(1)"
   ]
  }
 ],
 "metadata": {
  "kernelspec": {
   "display_name": "Python 3 (ipykernel)",
   "language": "python",
   "name": "python3"
  },
  "language_info": {
   "codemirror_mode": {
    "name": "ipython",
    "version": 3
   },
   "file_extension": ".py",
   "mimetype": "text/x-python",
   "name": "python",
   "nbconvert_exporter": "python",
   "pygments_lexer": "ipython3",
   "version": "3.12.2"
  }
 },
 "nbformat": 4,
 "nbformat_minor": 5
}
