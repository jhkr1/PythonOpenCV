{
 "cells": [
  {
   "cell_type": "markdown",
   "id": "267c996e-dcfa-42cd-b6be-75825086be2b",
   "metadata": {},
   "source": [
    "# 9. 이미지 회전"
   ]
  },
  {
   "cell_type": "markdown",
   "id": "278ec030-d364-4e84-aadf-8d59188642d9",
   "metadata": {},
   "source": [
    "## 시계 방향 90도 회전"
   ]
  },
  {
   "cell_type": "code",
   "execution_count": 13,
   "id": "c01a9b88-9cac-4af5-80d0-68debd249d83",
   "metadata": {},
   "outputs": [
    {
     "data": {
      "text/plain": [
       "-1"
      ]
     },
     "execution_count": 13,
     "metadata": {},
     "output_type": "execute_result"
    }
   ],
   "source": [
    "import cv2\n",
    "img = cv2.imread('img.jpg')\n",
    "\n",
    "rotate_90 = cv2.rotate(img, cv2.ROTATE_90_CLOCKWISE) # 시계 방향으로 90도 회전\n",
    "\n",
    "cv2.imshow('img', img)\n",
    "cv2.imshow('rotate_90', rotate_90)\n",
    "\n",
    "cv2.waitKey(0)\n",
    "cv2.destroyAllWindows()\n",
    "cv2.waitKey(1)"
   ]
  },
  {
   "cell_type": "markdown",
   "id": "6b6f09ab-4028-440e-8fd6-e3fde8e04dd1",
   "metadata": {},
   "source": [
    "## 180도 회전"
   ]
  },
  {
   "cell_type": "code",
   "execution_count": 19,
   "id": "e26985a3-d6dc-4915-abd7-c377a2c8e6ab",
   "metadata": {},
   "outputs": [
    {
     "data": {
      "text/plain": [
       "-1"
      ]
     },
     "execution_count": 19,
     "metadata": {},
     "output_type": "execute_result"
    }
   ],
   "source": [
    "import cv2\n",
    "img = cv2.imread('img.jpg')\n",
    "\n",
    "rotate_180 = cv2.rotate(img, cv2.ROTATE_180) # 시계 방향으로 90도 회전\n",
    "\n",
    "cv2.imshow('img', img)\n",
    "cv2.imshow('rotate_180', rotate_180)\n",
    "\n",
    "cv2.waitKey(0)\n",
    "cv2.destroyAllWindows()\n",
    "cv2.waitKey(1)"
   ]
  },
  {
   "cell_type": "markdown",
   "id": "0ede83c3-9f3b-448d-9eec-32d7f96bb779",
   "metadata": {},
   "source": [
    "## 시계 반대 방향으로 90도 회전(시계 방향 270도 회전)"
   ]
  },
  {
   "cell_type": "code",
   "execution_count": 22,
   "id": "04ef8c29-38bd-4447-aa1f-b31213f072db",
   "metadata": {},
   "outputs": [
    {
     "data": {
      "text/plain": [
       "-1"
      ]
     },
     "execution_count": 22,
     "metadata": {},
     "output_type": "execute_result"
    }
   ],
   "source": [
    "import cv2\n",
    "img = cv2.imread('img.jpg')\n",
    "\n",
    "rotate_270 = cv2.rotate(img, cv2.ROTATE_90_COUNTERCLOCKWISE) # 시계 반대 방향으로 90도 회전\n",
    "\n",
    "cv2.imshow('img', img)\n",
    "cv2.imshow('rotate_270', rotate_270)\n",
    "\n",
    "cv2.waitKey(0)\n",
    "cv2.destroyAllWindows()\n",
    "cv2.waitKey(1)"
   ]
  }
 ],
 "metadata": {
  "kernelspec": {
   "display_name": "Python 3 (ipykernel)",
   "language": "python",
   "name": "python3"
  },
  "language_info": {
   "codemirror_mode": {
    "name": "ipython",
    "version": 3
   },
   "file_extension": ".py",
   "mimetype": "text/x-python",
   "name": "python",
   "nbconvert_exporter": "python",
   "pygments_lexer": "ipython3",
   "version": "3.12.2"
  }
 },
 "nbformat": 4,
 "nbformat_minor": 5
}
