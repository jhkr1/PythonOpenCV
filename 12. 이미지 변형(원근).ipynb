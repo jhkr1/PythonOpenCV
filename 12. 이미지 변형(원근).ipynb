{
 "cells": [
  {
   "cell_type": "markdown",
   "id": "3f57bc0f-1b05-4306-953c-426f053a2e6f",
   "metadata": {},
   "source": [
    "# 12. 이미지 변형(원근)"
   ]
  },
  {
   "cell_type": "markdown",
   "id": "8fcf4061-7095-453b-bb84-64be02c9b45a",
   "metadata": {},
   "source": [
    "## 사다리꼴 이미지 펼치기"
   ]
  },
  {
   "cell_type": "code",
   "execution_count": 9,
   "id": "a1315150-d7f3-49ec-9e8e-ceddbff1fe5e",
   "metadata": {},
   "outputs": [
    {
     "data": {
      "text/plain": [
       "-1"
      ]
     },
     "execution_count": 9,
     "metadata": {},
     "output_type": "execute_result"
    }
   ],
   "source": [
    "import cv2\n",
    "import numpy as np\n",
    "img = cv2.imread('newspaper.jpg')\n",
    "\n",
    "width, height = 640, 240 # 결과물 출력\n",
    "\n",
    "src = np.array([[511,352], [1008, 345], [1122, 584], [455, 594]], dtype=np.float32) # input 4개 지정\n",
    "dst = np.array([[0, 0], [width, 0], [width, height], [0, height]], dtype=np.float32) # output 4개 지정\n",
    "# 좌상, 우상, 우하, 좌하 (시계 방향으로 4 지점 정의)\n",
    "\n",
    "matrix = cv2.getPerspectiveTransform(src, dst) # 변환 행렬을 얻어옴\n",
    "result = cv2.warpPerspective(img, matrix, (width, height)) # matrix대로 변환을 함\n",
    "\n",
    "cv2.imshow('img', img)\n",
    "cv2.imshow('result', result)\n",
    "cv2.waitKey(0)\n",
    "cv2.destroyAllWindows()\n",
    "cv2.waitKey(1)"
   ]
  },
  {
   "cell_type": "markdown",
   "id": "5d2134fe-0f6d-4eb3-aeca-ab248886628d",
   "metadata": {},
   "source": [
    "## 회전된 이미지 올바로 세우기"
   ]
  },
  {
   "cell_type": "code",
   "execution_count": 15,
   "id": "b83b832d-beac-4e8a-b1f7-de5466ec6560",
   "metadata": {},
   "outputs": [
    {
     "data": {
      "text/plain": [
       "-1"
      ]
     },
     "execution_count": 15,
     "metadata": {},
     "output_type": "execute_result"
    }
   ],
   "source": [
    "import cv2\n",
    "import numpy as np\n",
    "img = cv2.imread('poker.jpg')\n",
    "\n",
    "width, height = 530, 710\n",
    "\n",
    "src = np.array([[702, 143], [1133, 414], [726, 1007], [276, 700]], dtype=np.float32) # input 4개 지정\n",
    "dst = np.array([[0, 0], [width, 0], [width, height], [0, height]], dtype=np.float32) # output 4개 지정\n",
    "# 좌상, 우상, 우하, 좌하 (시계 방향으로 4 지점 정의)\n",
    "\n",
    "matrix = cv2.getPerspectiveTransform(src, dst) # 변환 행렬을 얻어옴\n",
    "result = cv2.warpPerspective(img, matrix, (width, height)) # matrix대로 변환을 함\n",
    "\n",
    "cv2.imshow('img', img)\n",
    "cv2.imshow('result', result)\n",
    "cv2.waitKey(0)\n",
    "cv2.destroyAllWindows()\n",
    "cv2.waitKey(1)"
   ]
  }
 ],
 "metadata": {
  "kernelspec": {
   "display_name": "Python 3 (ipykernel)",
   "language": "python",
   "name": "python3"
  },
  "language_info": {
   "codemirror_mode": {
    "name": "ipython",
    "version": 3
   },
   "file_extension": ".py",
   "mimetype": "text/x-python",
   "name": "python",
   "nbconvert_exporter": "python",
   "pygments_lexer": "ipython3",
   "version": "3.12.2"
  }
 },
 "nbformat": 4,
 "nbformat_minor": 5
}
